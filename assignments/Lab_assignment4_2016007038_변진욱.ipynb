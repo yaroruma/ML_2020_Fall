{
  "nbformat": 4,
  "nbformat_minor": 0,
  "metadata": {
    "colab": {
      "name": "iphone.ipynb",
      "provenance": [],
      "collapsed_sections": []
    },
    "kernelspec": {
      "name": "python3",
      "display_name": "Python 3"
    }
  },
  "cells": [
    {
      "cell_type": "markdown",
      "metadata": {
        "id": "1G2DpuJ_5Feb"
      },
      "source": [
        "#기계학습론 실습 4과제\n",
        "###로봇공학과 2016007038 변진욱"
      ]
    },
    {
      "cell_type": "markdown",
      "metadata": {
        "id": "evU2hm6o3tKe"
      },
      "source": [
        "##3과제의 예측사항\n",
        "\n",
        "각 feature를 비교했을 때 직선 회귀에 가장 적합한 것은 화면 크기임을 알 수 있다. 아이폰의 라인업에는 넘버링 이후 S가 붙는 모델에서 화면 크기가 커지는데, 이에 대한 반영이라고 생각한다. \n",
        "\n",
        "가격이 아닌 성능을 예측하는 것은 시각화로 나타내진 않았지만 히트맵에서 볼 수 있듯이 거의 일정한 수준으로 꾸준히 증가하는 것을 볼 수 있다. 프로세서의 성능이나 배터리 용량 같은 성능 정보는 충분히 예측할 수 있다고 생각한다."
      ]
    },
    {
      "cell_type": "code",
      "metadata": {
        "id": "JbMLSntGc_w9"
      },
      "source": [
        "import pandas as pd\n",
        "import seaborn as sns\n",
        "import matplotlib.pyplot as plt\n",
        "%matplotlib inline\n",
        "\n",
        "ip = pd.read_excel('./iPhone.xlsx')"
      ],
      "execution_count": 1,
      "outputs": []
    },
    {
      "cell_type": "code",
      "metadata": {
        "id": "ry40-5HVBomA"
      },
      "source": [
        "from sklearn.model_selection import train_test_split\n",
        "from sklearn.linear_model import LinearRegression\n",
        "from sklearn.metrics import mean_squared_error\n",
        "import numpy as np\n",
        "\n",
        "\n",
        "x= ip.drop('model', axis=1)\n",
        "x= x[x['single_bench'].notnull()]\n",
        "y_price= x['price']\n",
        "x= x.drop('price', axis=1)\n",
        "x_perf= x.drop('multi_bench', axis=1)\n",
        "y_perf= x['multi_bench']\n",
        "\n",
        "x_train, x_test, y_train, y_test = train_test_split(x, y_price, test_size = 0.2, random_state = 3)"
      ],
      "execution_count": 21,
      "outputs": []
    },
    {
      "cell_type": "markdown",
      "metadata": {
        "id": "emPLPeDT6j57"
      },
      "source": [
        "구모델은 벤치마크 점수 정보가 없기 때문에 notnull을 이용하여 제외시킨다.\n",
        "\n",
        "\n",
        "가격과 벤치마크 점수 두 가지의 label을 이용하기 위해 성능용 데이터 셋을 하나 더 만들었다."
      ]
    },
    {
      "cell_type": "code",
      "metadata": {
        "id": "ibzre1ZECDem",
        "outputId": "d2d6fd6b-0d52-4b13-f82c-76c93a1309e4",
        "colab": {
          "base_uri": "https://localhost:8080/"
        }
      },
      "source": [
        "reg_price = LinearRegression()\n",
        "reg_price.fit(x_train, y_train)\n",
        "\n",
        "pred_price = reg_price.predict(x_test)\n",
        "rmse = (np.sqrt(mean_squared_error(y_test, pred_price)))\n",
        "rmse"
      ],
      "execution_count": 22,
      "outputs": [
        {
          "output_type": "execute_result",
          "data": {
            "text/plain": [
              "50.503562626189535"
            ]
          },
          "metadata": {
            "tags": []
          },
          "execution_count": 22
        }
      ]
    },
    {
      "cell_type": "markdown",
      "metadata": {
        "id": "AzEQKzSS6dIO"
      },
      "source": [
        "가격에 대한 예측의 RMSE값은 50&#36; 정도가 나왔다. <br>\n",
        "같은 모델에서 스토리지 업그레이드된 모델이 100&#36;씩 차이나는 것을 볼 때 적어도 옵션 하나, 또는 세대 하나 정도의 구분을 할 수 있을 정도의 성능은 얻을 수 있다고 생각한다."
      ]
    },
    {
      "cell_type": "code",
      "metadata": {
        "id": "jtNiC4BoFDob",
        "outputId": "6b5d7cc2-0e5b-450b-e55a-8ff5ca840304",
        "colab": {
          "base_uri": "https://localhost:8080/",
          "height": 279
        }
      },
      "source": [
        "plt.scatter(y_test, pred_price)\n",
        "plt.xlabel(\"Actual prices($)\")\n",
        "plt.ylabel(\"Predicted prices($)\")\n",
        "plt.plot([400,1400], [400,1400], 'r')\n",
        "plt.grid()"
      ],
      "execution_count": 9,
      "outputs": [
        {
          "output_type": "display_data",
          "data": {
            "image/png": "[encoded data removed]",
            "text/plain": [
              "<Figure size 432x288 with 1 Axes>"
            ]
          },
          "metadata": {
            "tags": [],
            "needs_background": "light"
          }
        }
      ]
    },
    {
      "cell_type": "markdown",
      "metadata": {
        "id": "Po7ag_aW7sBi"
      },
      "source": [
        "실제 가격과 예상 가격의 그래프이다.\n",
        "\n",
        "실제가격 750&#36; 부근에 3개의 점이 수직으로 나열된 것을 볼 수 있는데, 다음 세대로 넘어가면서 성능을 향상시키면서 가격을 그대로 유지한 모델의 경우라고 볼 수 있다."
      ]
    },
    {
      "cell_type": "code",
      "metadata": {
        "id": "T1DyQFv1GquR",
        "outputId": "c65cb8cc-23d0-437e-ada8-693d0ac5cc23",
        "colab": {
          "base_uri": "https://localhost:8080/"
        }
      },
      "source": [
        "x_train, x_test, y_train, y_test = train_test_split(x_perf, y_perf, test_size = 0.2, random_state = 3)\n",
        "reg_perf = LinearRegression()\n",
        "reg_perf.fit(x_train, y_train)\n",
        "\n",
        "pred_perf = reg_perf.predict(x_test)\n",
        "rmse = (np.sqrt(mean_squared_error(y_test, pred_perf)))\n",
        "rmse"
      ],
      "execution_count": 10,
      "outputs": [
        {
          "output_type": "execute_result",
          "data": {
            "text/plain": [
              "94.18478327703522"
            ]
          },
          "metadata": {
            "tags": []
          },
          "execution_count": 10
        }
      ]
    },
    {
      "cell_type": "markdown",
      "metadata": {
        "id": "r_t65UZr8lcb"
      },
      "source": [
        "벤치마크 점수에 대한 RMSE값은 94정도가 나왔다.\n",
        "\n",
        "비교적 구모델인 아이폰6 이후로 벤치마크 점수가 다음 세대에서 100이상 차이나는 것으로 볼 때 가격에서와 비슷하게 세대를 구분할 수 있을 정도의 성능이라고 볼 수 있다."
      ]
    },
    {
      "cell_type": "code",
      "metadata": {
        "id": "X8A1_MDjHy48",
        "outputId": "9e935e45-4f33-4cdb-8ade-5dfe28719fef",
        "colab": {
          "base_uri": "https://localhost:8080/",
          "height": 279
        }
      },
      "source": [
        "plt.scatter(y_test, pred_perf)\n",
        "plt.xlabel(\"Actual multicore bench score\")\n",
        "plt.ylabel(\"Predicted multicore bench score\")\n",
        "plt.plot([500,4000], [500,4000], 'r')\n",
        "plt.grid()"
      ],
      "execution_count": 11,
      "outputs": [
        {
          "output_type": "display_data",
          "data": {
            "image/png": "[encoded data removed]",
            "text/plain": [
              "<Figure size 432x288 with 1 Axes>"
            ]
          },
          "metadata": {
            "tags": [],
            "needs_background": "light"
          }
        }
      ]
    },
    {
      "cell_type": "code",
      "metadata": {
        "id": "l_EmH9Zp9hL-",
        "outputId": "f2d82fd8-cd0f-4385-bec5-a3f17feb2321",
        "colab": {
          "base_uri": "https://localhost:8080/"
        }
      },
      "source": [
        "for i in range(10):\n",
        "  x_train, x_test, y_train, y_test = train_test_split(x, y_price, test_size = 0.2, random_state = i)\n",
        "  reg_price = LinearRegression()\n",
        "  reg_price.fit(x_train, y_train)\n",
        "\n",
        "  pred_price = reg_price.predict(x_test)\n",
        "  rmse = (np.sqrt(mean_squared_error(y_test, pred_price)))\n",
        "\n",
        "  x_train, x_test, y_train, y_test = train_test_split(x_perf, y_perf, test_size = 0.2, random_state = i)\n",
        "  reg_perf = LinearRegression()\n",
        "  reg_perf.fit(x_train, y_train)\n",
        "\n",
        "  pred_perf = reg_perf.predict(x_test)\n",
        "  rmse_perf = (np.sqrt(mean_squared_error(y_test, pred_perf)))\n",
        "  rmse_perf\n",
        "  print('RMSE of price : ', rmse, ', RMSE of bench score : ', rmse_perf)"
      ],
      "execution_count": 33,
      "outputs": [
        {
          "output_type": "stream",
          "text": [
            "RMSE of price :  56.306973252836215 , RMSE of bench score :  100.47157445752937\n",
            "RMSE of price :  53.26964275633184 , RMSE of bench score :  96.41414727837717\n",
            "RMSE of price :  67.39929985792389 , RMSE of bench score :  130.18388083695012\n",
            "RMSE of price :  50.503562626189535 , RMSE of bench score :  94.18478327703522\n",
            "RMSE of price :  37.76005531020614 , RMSE of bench score :  96.50643727270256\n",
            "RMSE of price :  37.38859319135994 , RMSE of bench score :  94.27979994916447\n",
            "RMSE of price :  53.56596716022186 , RMSE of bench score :  93.04366427607964\n",
            "RMSE of price :  49.31123284058454 , RMSE of bench score :  101.91324213077698\n",
            "RMSE of price :  52.35674760203869 , RMSE of bench score :  98.43548083540055\n",
            "RMSE of price :  42.951512850617775 , RMSE of bench score :  102.08524176320489\n"
          ],
          "name": "stdout"
        }
      ]
    },
    {
      "cell_type": "markdown",
      "metadata": {
        "id": "i_ewDLXH_Q01"
      },
      "source": [
        "random state를 변화시켜가며 살펴보면, 가격에 대한 RMSE값은 37&#36;~67&#36;로 나타나고, \n",
        "\n",
        "벤치마크 점수에 대한 RMSE값은 93~130 정도로 나타난다.\n",
        "\n",
        "위의 Linear regression 모델에서는 random state값이 5일 때 2가지 label에서 오차가 적으므로 가장 성능이 좋은 모델이다.\n",
        "\n",
        "<br><br><br><br>\n",
        "\n",
        "위의 학습 모델을 이용하여 다음에 출시될 아이폰13과 이미 출시된 아이패드 모델 2가지의 성능과 가격을 예측해본다."
      ]
    },
    {
      "cell_type": "code",
      "metadata": {
        "id": "qPmB1qmbH25I",
        "outputId": "1dfdc233-1faf-4671-cdb8-1b33b7ee8d5d",
        "colab": {
          "base_uri": "https://localhost:8080/"
        }
      },
      "source": [
        "iphone13 = np.array([[2021, 1788, 6, 3, 4, 64, 3000, 180, 6.1, 1170, 2532, 12]])\n",
        "iphone13_pred_perf = reg_perf.predict(iphone13)\n",
        "iphone13_pred_perf"
      ],
      "execution_count": 34,
      "outputs": [
        {
          "output_type": "execute_result",
          "data": {
            "text/plain": [
              "array([4498.14874426])"
            ]
          },
          "metadata": {
            "tags": []
          },
          "execution_count": 34
        }
      ]
    },
    {
      "cell_type": "markdown",
      "metadata": {
        "id": "9or2GKHYB7fp"
      },
      "source": [
        "다음 세대에서 칩셋이 변하지 않는다고 가정하여 아이폰 12의 싱글코어 점수를 그대로 이용하면 멀티코어 벤치마크 점수는 4498이 나온다. 이는 현재 아이패드 프로의 점수와 비슷한 수준이며, 현재 아이폰의 점수 기준으로는 높다. OS에서 최적화를 충분히 한다면 도달할 수 있는 수치라고 생각한다."
      ]
    },
    {
      "cell_type": "code",
      "metadata": {
        "id": "TYR5PyUFNOCY",
        "outputId": "ab1cb429-628a-4129-fec9-c6f9c352cc1f",
        "colab": {
          "base_uri": "https://localhost:8080/"
        }
      },
      "source": [
        "iphone13 = np.array([[2021, 1788, 4498, 6, 3, 4, 64, 3000, 180, 6.1, 1170, 2532, 12]])\n",
        "iphone13_pred_price = reg_price.predict(iphone13)\n",
        "iphone13_pred_price"
      ],
      "execution_count": 40,
      "outputs": [
        {
          "output_type": "execute_result",
          "data": {
            "text/plain": [
              "array([752.04354305])"
            ]
          },
          "metadata": {
            "tags": []
          },
          "execution_count": 40
        }
      ]
    },
    {
      "cell_type": "markdown",
      "metadata": {
        "id": "ibRmFktyCa-y"
      },
      "source": [
        "예측한 멀티코어 점수를 대입하고 가격을 예측했을 때 752&#36;가 나왔다.<br>\n",
        " 애플의 가격 정책을 살펴봤을 때 749&#36; 또는 799&#36;라고 예상되는데, 아이폰 12 64Gb 모델이 799$로 출시되었으므로 적당한 가격이라고 할 수 있다."
      ]
    },
    {
      "cell_type": "code",
      "metadata": {
        "id": "6dU-qFOLP8oM",
        "outputId": "6a988220-2be1-43ec-fd89-d0d41027bf9a",
        "colab": {
          "base_uri": "https://localhost:8080/"
        }
      },
      "source": [
        "ipad8 = np.array([[2020, 1112, 6, 2.5, 3, 128, 3240, 490, 10.2, 1620, 2160, 8]]) #2397\n",
        "ipad8_pred_perf = reg_perf.predict(ipad8)\n",
        "ipad8_pred_perf"
      ],
      "execution_count": 36,
      "outputs": [
        {
          "output_type": "execute_result",
          "data": {
            "text/plain": [
              "array([754.00150444])"
            ]
          },
          "metadata": {
            "tags": []
          },
          "execution_count": 36
        }
      ]
    },
    {
      "cell_type": "code",
      "metadata": {
        "id": "w4W6bnkVS3Qs",
        "outputId": "e5f69277-4926-42a2-f222-34a4a809f06d",
        "colab": {
          "base_uri": "https://localhost:8080/"
        }
      },
      "source": [
        "ipad8 = np.array([[2020, 1112, 2397, 6, 2.5, 3, 128, 3240, 490, 10.2, 1620, 2160, 8]]) #559\n",
        "ipad8_pred_price = reg_price.predict(ipad8)\n",
        "ipad8_pred_price"
      ],
      "execution_count": 41,
      "outputs": [
        {
          "output_type": "execute_result",
          "data": {
            "text/plain": [
              "array([1850.5495989])"
            ]
          },
          "metadata": {
            "tags": []
          },
          "execution_count": 41
        }
      ]
    },
    {
      "cell_type": "markdown",
      "metadata": {
        "id": "zArGDhuXETaK"
      },
      "source": [
        "반면, 아이패드 8세대의 정보를 그대로 넣었을 때에는 예측이 크게 빗나가는 것을 볼 수 있다.<br>\n",
        "원래 2397인 멀티코어 점수는 754로, 오히려 주어진 싱글코어 점수보다 낮게 예측되고, 559&#36;인 가격은 1850&#36;로 매우 크게 차이나는 것을 볼 수 있다. \n",
        "이는 3과제의 히트맵에서 볼 수 있듯이 가격에는 화면크기가 더 영향을 크게 미치는 feature이기 때문이라고 짐작해볼 수 있다."
      ]
    },
    {
      "cell_type": "code",
      "metadata": {
        "id": "XmZMRotgS-7_",
        "outputId": "a8bf7f55-c248-418a-cd89-1b0c4ce64933",
        "colab": {
          "base_uri": "https://localhost:8080/"
        }
      },
      "source": [
        "ipad_air = np.array([[2020, 1585, 6, 3, 4, 256, 2860, 460, 10.9, 1640, 2360, 12]]) #4178\n",
        "ipad_air_pred_perf = reg_perf.predict(ipad_air)\n",
        "ipad_air_pred_perf"
      ],
      "execution_count": 38,
      "outputs": [
        {
          "output_type": "execute_result",
          "data": {
            "text/plain": [
              "array([2256.90178526])"
            ]
          },
          "metadata": {
            "tags": []
          },
          "execution_count": 38
        }
      ]
    },
    {
      "cell_type": "code",
      "metadata": {
        "id": "mG04npH_2GXw",
        "outputId": "dce30d92-91a3-4af0-98a3-aa01c9549c94",
        "colab": {
          "base_uri": "https://localhost:8080/"
        }
      },
      "source": [
        "ipad_air = np.array([[2020, 1585, 4178, 6, 3, 4, 256, 2860, 460, 10.9, 1640, 2360, 12]]) #879\n",
        "ipad_air_pred_price = reg_price.predict(ipad_air)\n",
        "ipad_air_pred_price"
      ],
      "execution_count": 39,
      "outputs": [
        {
          "output_type": "execute_result",
          "data": {
            "text/plain": [
              "array([1630.75450184])"
            ]
          },
          "metadata": {
            "tags": []
          },
          "execution_count": 39
        }
      ]
    },
    {
      "cell_type": "markdown",
      "metadata": {
        "id": "NiUXsRpqE_yY"
      },
      "source": [
        "실제 멀티코어 점수 : 4178, 실제 가격 : 879&#36; <br>\n",
        "아이패드 에어의 경우에도 실제값과의 차이는 크게 나지만, 실제값과의 편차는 아이패드 8세대보다 적은 편이다. 배터리 용량을 제외하고는 모든 점에서 아이패드 8세대보다 성능면에서 우위를 갖지만 오히려 가격을 낮게 예상한 점에서 **성능 정보는 가격에 큰 영향을 주지 않는다는 것을 알 수 있다.**"
      ]
    }
  ]
}