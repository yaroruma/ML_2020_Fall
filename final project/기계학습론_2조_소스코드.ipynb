{
  "nbformat": 4,
  "nbformat_minor": 0,
  "metadata": {
    "colab": {
      "name": "final_test",
      "provenance": [],
      "collapsed_sections": []
    },
    "kernelspec": {
      "name": "python3",
      "display_name": "Python 3"
    }
  },
  "cells": [
    {
      "cell_type": "markdown",
      "metadata": {
        "id": "G9ygVO-QGWdO"
      },
      "source": [
        "#사용하는 함수 import, 데이터 불러오기"
      ]
    },
    {
      "cell_type": "code",
      "metadata": {
        "id": "1qYU77ZyJtdj",
        "colab": {
          "base_uri": "https://localhost:8080/"
        },
        "outputId": "a8bacb4c-ef2e-43e3-8c30-2d2fa6596fa4"
      },
      "source": [
        "import pandas as pd\n",
        "import numpy as np\n",
        "from sklearn.metrics import roc_auc_score, confusion_matrix, recall_score\n",
        "from sklearn.model_selection import train_test_split\n",
        "from imblearn.under_sampling import RandomUnderSampler\n",
        "from sklearn.preprocessing import StandardScaler\n",
        "import xgboost\n",
        "from sklearn.model_selection import GridSearchCV\n",
        "from sklearn.model_selection import KFold\n",
        "from sklearn.linear_model import SGDClassifier\n",
        "import warnings\n",
        "\n",
        "secom = pd.read_csv('uci-secom.csv')\n",
        "secom.shape"
      ],
      "execution_count": 1,
      "outputs": [
        {
          "output_type": "stream",
          "text": [
            "/usr/local/lib/python3.6/dist-packages/sklearn/externals/six.py:31: FutureWarning: The module is deprecated in version 0.21 and will be removed in version 0.23 since we've dropped support for Python 2.7. Please rely on the official version of six (https://pypi.org/project/six/).\n",
            "  \"(https://pypi.org/project/six/).\", FutureWarning)\n",
            "/usr/local/lib/python3.6/dist-packages/sklearn/utils/deprecation.py:144: FutureWarning: The sklearn.neighbors.base module is  deprecated in version 0.22 and will be removed in version 0.24. The corresponding classes / functions should instead be imported from sklearn.neighbors. Anything that cannot be imported from sklearn.neighbors is now part of the private API.\n",
            "  warnings.warn(message, FutureWarning)\n"
          ],
          "name": "stderr"
        },
        {
          "output_type": "execute_result",
          "data": {
            "text/plain": [
              "(1567, 592)"
            ]
          },
          "metadata": {
            "tags": []
          },
          "execution_count": 1
        }
      ]
    },
    {
      "cell_type": "markdown",
      "metadata": {
        "id": "RJCOTHo3GgQ8"
      },
      "source": [
        "#label 분리, 상관관계 계수 낮은 열 제거, NaN값 제거"
      ]
    },
    {
      "cell_type": "code",
      "metadata": {
        "id": "9liU-bm6J8rn",
        "colab": {
          "base_uri": "https://localhost:8080/"
        },
        "outputId": "2214ff9f-8be8-4e6f-a847-8e6cb98f0d8f"
      },
      "source": [
        "secom=secom.drop(columns='Time')\n",
        "co = secom.corr()\n",
        "co_x = co['Pass/Fail']\n",
        "\n",
        "t = 0\n",
        "a = np.zeros((1,1))\n",
        "for i in co_x:\n",
        "  if np.isnan(i):\n",
        "    a = np.append(a,t)\n",
        "  t = t+1\n",
        "a = np.delete(a,0)\n",
        "\n",
        "for i in a:\n",
        "  i = int(i)\n",
        "  secom = secom.drop([str(i)],axis=1)\n",
        "\n",
        "secom.fillna(secom.mean(), inplace=True)\n",
        "\n",
        "x = secom.iloc[:, 0:-1]\n",
        "y = secom.iloc[:, -1]\n",
        "x.shape"
      ],
      "execution_count": 2,
      "outputs": [
        {
          "output_type": "execute_result",
          "data": {
            "text/plain": [
              "(1567, 474)"
            ]
          },
          "metadata": {
            "tags": []
          },
          "execution_count": 2
        }
      ]
    },
    {
      "cell_type": "markdown",
      "metadata": {
        "id": "MQoRTg3qGyHR"
      },
      "source": [
        "#StandardScaler 적용"
      ]
    },
    {
      "cell_type": "code",
      "metadata": {
        "id": "aSElyU5WE0p7"
      },
      "source": [
        "ss = StandardScaler()\n",
        "x = ss.fit_transform(x)"
      ],
      "execution_count": 3,
      "outputs": []
    },
    {
      "cell_type": "markdown",
      "metadata": {
        "id": "ngsBvENIG2Zk"
      },
      "source": [
        "#GridSearch를 통해 Hyper parameter 탐색"
      ]
    },
    {
      "cell_type": "code",
      "metadata": {
        "id": "nfn12fZXEsGd"
      },
      "source": [
        "# 참고용, 실제 로직에서 사용하지 않음.\r\n",
        "'''x_train, x_test, y_train, y_test = train_test_split(x, y, test_size = 0.2, random_state = 13, stratify = y)\r\n",
        "param_grid = {\r\n",
        "    'eta0': [1e-1, 1e-2, 1e-3, 1e-5],\r\n",
        "    'l1_ratio': [1e-1, 1e-2, 1e-3],\r\n",
        "    'max_iter': [1e3, 1e5, 1e7],\r\n",
        "}\r\n",
        "estimator = SGDClassifier(loss = 'perceptron')\r\n",
        "\r\n",
        "kf = KFold(random_state=13,\r\n",
        "           n_splits=10,\r\n",
        "           shuffle=True,\r\n",
        "          )\r\n",
        "\r\n",
        "grid_search = GridSearchCV(estimator=estimator, \r\n",
        "                           param_grid=param_grid, \r\n",
        "                           cv=kf, \r\n",
        "                           n_jobs=-1\r\n",
        "                          )\r\n",
        "\r\n",
        "grid_search.fit(x_train, y_train)\r\n",
        "print(grid_search.best_params_)'''"
      ],
      "execution_count": null,
      "outputs": []
    },
    {
      "cell_type": "markdown",
      "metadata": {
        "id": "ar_GpBb3G8xR"
      },
      "source": [
        "#실제 학습 및 평가"
      ]
    },
    {
      "cell_type": "code",
      "metadata": {
        "id": "0yswsjnpLSZt",
        "colab": {
          "base_uri": "https://localhost:8080/"
        },
        "outputId": "9a3de6b4-d85c-49d0-e375-210b030c6c4f"
      },
      "source": [
        "warnings.filterwarnings(action='ignore')\n",
        "\n",
        "xgb_clf = xgboost.XGBClassifier(objective = 'binary:logistic', booster = 'gblinear', gamma=0, min_child_weight=0.01)\n",
        "sgd_clf = SGDClassifier(loss = 'perceptron', l1_ratio = 1e-3, fit_intercept=True, max_iter=1e7, eta0 = 1e-7, shuffle=False, epsilon='DEFAULT_EPSILON', n_jobs=-1, learning_rate='constant', warm_start=True, validation_fraction=0.1)\n",
        "\n",
        "auc_score_sgd = 0\n",
        "for i in range(100):\n",
        "  x_train, x_test, y_train, y_test = train_test_split(x, y, test_size = 0.2, random_state = i, stratify = y)\n",
        "\n",
        "  rus = RandomUnderSampler(random_state = 303)\n",
        "  x_train_under,y_train_under = rus.fit_sample(x_train, y_train)\n",
        " \n",
        "  xgb_clf.fit(x_train_under, y_train_under)\n",
        "  xgb_proba = xgb_clf.predict_proba(x_test)\n",
        "\n",
        "  sgd_clf.fit(x_train_under, y_train_under)\n",
        "  sgd_pred = sgd_clf.predict(x_test)\n",
        "\n",
        "  for i in sgd_pred:\n",
        "    if sgd_pred[i] == -1:\n",
        "      if xgb_proba[i][1] > 0.8:\n",
        "        sgd_pred[i] = 1\n",
        "    if sgd_pred[i] == 1:\n",
        "      if xgb_proba[i][1] < 0.2:\n",
        "        sgd_pred[i] = -1\n",
        "\n",
        "  auc_score_sgd+=(roc_auc_score(y_test, sgd_pred))\n",
        "\n",
        "print('ROC_AUC_SCORE : ', (auc_score_sgd)/100)"
      ],
      "execution_count": 5,
      "outputs": [
        {
          "output_type": "stream",
          "text": [
            "ROC_AUC_SCORE :  0.8500113765642776\n"
          ],
          "name": "stdout"
        }
      ]
    },
    {
      "cell_type": "code",
      "metadata": {
        "id": "osT9D0kzhzN_"
      },
      "source": [
        ""
      ],
      "execution_count": null,
      "outputs": []
    }
  ]
}